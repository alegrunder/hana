{
 "cells": [
  {
   "cell_type": "markdown",
   "id": "588bd10f-9d27-440a-9921-b11047230c92",
   "metadata": {},
   "source": [
    "# Induktive Erwärmung Aufgabe 2"
   ]
  },
  {
   "cell_type": "code",
   "execution_count": 1,
   "id": "8015b8a5-960b-4850-8a5e-07ba92dddd5c",
   "metadata": {},
   "outputs": [],
   "source": [
    "from ngsolve import *\n",
    "from netgen.geom2d import unit_square\n",
    "from ngsolve.webgui import Draw\n",
    "from netgen.csg import *"
   ]
  },
  {
   "cell_type": "code",
   "execution_count": 2,
   "id": "f6b8d29a-1de4-4c76-8e93-2c0c3a374ca4",
   "metadata": {},
   "outputs": [],
   "source": [
    "lam = CoefficientFunction([0.0262, 400, 400])"
   ]
  },
  {
   "cell_type": "code",
   "execution_count": 3,
   "id": "a0bab7bc-5f9f-4abb-8085-b43721b5e474",
   "metadata": {},
   "outputs": [],
   "source": [
    "mesh = Mesh(\"my_mesh.vol\")  # Load mesh\n",
    "Qespace = L2(mesh, order=4)\n",
    "Qe = GridFunction(Qespace)\n",
    "Qe.Load(\"qe_gf.gf\")  # Load GridFunction"
   ]
  },
  {
   "cell_type": "code",
   "execution_count": 4,
   "id": "f4a92a41-b2ce-4729-b8f8-1bad4c8d94b1",
   "metadata": {},
   "outputs": [
    {
     "data": {
      "application/vnd.jupyter.widget-view+json": {
       "model_id": "5faa99693fa34a6c92cc289809af42e8",
       "version_major": 2,
       "version_minor": 0
      },
      "text/plain": [
       "WebGuiWidget(layout=Layout(height='50vh', width='100%'), value={'gui_settings': {}, 'ngsolve_version': '6.2.24…"
      ]
     },
     "metadata": {},
     "output_type": "display_data"
    },
    {
     "data": {
      "text/plain": [
       "BaseWebGuiScene"
      ]
     },
     "execution_count": 4,
     "metadata": {},
     "output_type": "execute_result"
    }
   ],
   "source": [
    "# Visualisierung\n",
    "mat_mapping = {name: i+1 for i, name in enumerate(mesh.GetMaterials())}\n",
    "cf = mesh.MaterialCF(mat_mapping)\n",
    "Draw(cf, mesh, \"material_colors\")"
   ]
  },
  {
   "cell_type": "code",
   "execution_count": 5,
   "id": "d9ec5815-1a56-45a6-8693-fc4c4c31171c",
   "metadata": {},
   "outputs": [
    {
     "data": {
      "application/vnd.jupyter.widget-view+json": {
       "model_id": "5e63096609dc4d5bb4143bf0660ea5c0",
       "version_major": 2,
       "version_minor": 0
      },
      "text/plain": [
       "WebGuiWidget(layout=Layout(height='50vh', width='100%'), value={'gui_settings': {}, 'ngsolve_version': '6.2.24…"
      ]
     },
     "metadata": {},
     "output_type": "display_data"
    },
    {
     "data": {
      "text/plain": [
       "BaseWebGuiScene"
      ]
     },
     "execution_count": 5,
     "metadata": {},
     "output_type": "execute_result"
    }
   ],
   "source": [
    "Draw(Qe,mesh, \"Qe_loaded\")"
   ]
  },
  {
   "cell_type": "code",
   "execution_count": 6,
   "id": "d79147fa-7dc0-49aa-87a6-88bc403e252f",
   "metadata": {},
   "outputs": [],
   "source": [
    "V2 = H1(mesh, order = 4, dirichlet = 'outer')\n",
    "uT,vT = V2.TnT()\n",
    "gfT = GridFunction(V2)"
   ]
  },
  {
   "cell_type": "code",
   "execution_count": 7,
   "id": "a9691e85-cf15-4cc4-9feb-ffda6f880812",
   "metadata": {},
   "outputs": [
    {
     "data": {
      "text/plain": [
       "<ngsolve.comp.LinearForm at 0x10f8bd7f0>"
      ]
     },
     "execution_count": 7,
     "metadata": {},
     "output_type": "execute_result"
    }
   ],
   "source": [
    "aT = BilinearForm(V2)\n",
    "aT += lam*grad(uT)*grad(vT)*dx\n",
    "\n",
    "fT = LinearForm(V2)\n",
    "fT += Qe*vT*dx\n",
    "\n",
    "aT.Assemble()\n",
    "fT.Assemble()"
   ]
  },
  {
   "cell_type": "code",
   "execution_count": 11,
   "id": "8d74538a-c851-494c-b47c-f49ac4ad8f25",
   "metadata": {},
   "outputs": [
    {
     "data": {
      "application/vnd.jupyter.widget-view+json": {
       "model_id": "f9d59080254e46dc85729f30a147d15c",
       "version_major": 2,
       "version_minor": 0
      },
      "text/plain": [
       "WebGuiWidget(layout=Layout(height='50vh', width='100%'), value={'gui_settings': {}, 'ngsolve_version': '6.2.24…"
      ]
     },
     "metadata": {},
     "output_type": "display_data"
    },
    {
     "data": {
      "text/plain": [
       "BaseWebGuiScene"
      ]
     },
     "execution_count": 11,
     "metadata": {},
     "output_type": "execute_result"
    }
   ],
   "source": [
    "gfT.vec.data = aT.mat.Inverse(V2.FreeDofs()) * fT.vec\n",
    "\n",
    "Draw(gfT, mesh, \"Temperatur\")"
   ]
  }
 ],
 "metadata": {
  "kernelspec": {
   "display_name": "Python 3 (ipykernel)",
   "language": "python",
   "name": "python3"
  },
  "language_info": {
   "codemirror_mode": {
    "name": "ipython",
    "version": 3
   },
   "file_extension": ".py",
   "mimetype": "text/x-python",
   "name": "python",
   "nbconvert_exporter": "python",
   "pygments_lexer": "ipython3",
   "version": "3.12.4"
  }
 },
 "nbformat": 4,
 "nbformat_minor": 5
}
