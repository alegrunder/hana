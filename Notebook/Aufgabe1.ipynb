{
 "cells": [
  {
   "cell_type": "markdown",
   "metadata": {},
   "source": [
    "# Projekt Code Induktive Erwärmung"
   ]
  },
  {
   "cell_type": "code",
   "execution_count": 1,
   "metadata": {},
   "outputs": [],
   "source": [
    "from ngsolve import *\n",
    "from netgen.geom2d import unit_square\n",
    "from ngsolve.webgui import Draw\n",
    "from netgen.csg import *\n",
    "from netgen.geom2d import SplineGeometry\n",
    "import math\n",
    "import numpy as np\n"
   ]
  },
  {
   "cell_type": "markdown",
   "metadata": {},
   "source": [
    "### Konstanten"
   ]
  },
  {
   "cell_type": "code",
   "execution_count": null,
   "metadata": {},
   "outputs": [],
   "source": [
    "omega = 2* pi *50   # Frequenz 50 Hz\n",
    "mu0 = 4* pi *1e-7   # Magnetische Feldkonstante\n",
    "\n",
    "sigmaCu = 56e6      # S/m (Kupfer)\n",
    "sigmaCore = 56e6    # S/m (Kupfer)\n",
    "\n",
    "sigma = CoefficientFunction ([0 , sigmaCu , sigmaCore ])\n",
    "mur = CoefficientFunction ([1 ,1 ,1])\n",
    "nu = CoefficientFunction (1/ mu0 *1/ mur ) # Permeabilität des Materials\n",
    "\n",
    "ic = 10             # Strom in den Windungen (A)\n",
    "\n",
    "# Mesh Generation\n",
    "l_air = 0.1         # Grosse der dargestellten Luft um denn Versuchsaufbau\n",
    "r_wire = 0.001      # Drahtdurchmesser in Metern\n",
    "nx_wire = 10        # Anzahl Kabel in X richtung\n",
    "ny_wire = 3         # Anzahl Kabel in Y richtung\n",
    "dxdy_wire = 0.5*r_wire\n",
    "\n",
    "rA_core = 0.01      # Core Höhe\n",
    "rI_core = 0.008\n",
    "l_core = 0.08       # Core Länge\n",
    "epsZero = 1e-8"
   ]
  },
  {
   "cell_type": "markdown",
   "metadata": {},
   "source": [
    "### Mesh generation"
   ]
  },
  {
   "cell_type": "code",
   "execution_count": 17,
   "metadata": {},
   "outputs": [],
   "source": [
    "geo = SplineGeometry()\n",
    "geo.AddRectangle(p1=(-l_air/2,epsZero),\n",
    "                 p2=(l_air/2,l_air/2),\n",
    "                 bcs=[\"rotsym\",\"outer\",\"outer\",\"outer\"],\n",
    "                 leftdomain=1,\n",
    "                 rightdomain=0)\n",
    "pts = []\n",
    "for i in range(nx_wire):\n",
    "    for j in range(ny_wire):\n",
    "        pts.append([\n",
    "            i*(2*r_wire+dxdy_wire), \n",
    "            rA_core+dxdy_wire+r_wire+j*(2*r_wire+dxdy_wire)\n",
    "        ])\n",
    "        geo.AddCircle(\n",
    "            c=(i*(2*r_wire+dxdy_wire), \n",
    "               rA_core+dxdy_wire+r_wire+j*(2*r_wire+dxdy_wire)),\n",
    "            r=r_wire, bc=\"inner\",\n",
    "            leftdomain=2,\n",
    "            rightdomain=1)\n",
    "pts = np.array(pts)\n",
    "geo.AddRectangle(p1=(-l_core/2,rI_core),\n",
    "                 p2=(l_core/2,rA_core),\n",
    "                 bc=\"inner\",\n",
    "                 leftdomain=3,\n",
    "                 rightdomain=1)\n",
    "geo.SetMaterial (1, \"air\")\n",
    "geo.SetMaterial (2, \"copper\")\n",
    "geo.SetMaterial (3, \"core\")\n",
    "geo.SetDomainMaxH(3,(rA_core-rI_core)/2)\n",
    "\n",
    "mesh = Mesh(geo.GenerateMesh(maxh=0.0025))\n",
    "\n",
    "# Visualisierung\n",
    "# Draw(mesh)"
   ]
  },
  {
   "cell_type": "markdown",
   "metadata": {},
   "source": [
    "## Aufgabe 1\n",
    "1) Wie lautet die schwache Gleichung für die partielle Differentialgleichung (4)? Verifizieren Sie diese am Listing 2.\n",
    "2) Berechnen Sie die Lösung und stellen Sie diese graphisch dar. Nutze Sie für die\n",
    "Berechnung die Formel (5).\n",
    "3) Berechnen Sie die induktive Wärmequelle q mit Hilfe von Formel (7)."
   ]
  },
  {
   "cell_type": "markdown",
   "metadata": {},
   "source": [
    "#### 1 Schwache Gleichung der partiellen Differtialgleichung\n",
    "\n",
    "Die Differentialgleichung lautet:\n",
    "$$\n",
    "\\sigma_j \\omega A_\\varphi - \\frac{\\partial}{\\partial r} \\left( \\mu^{-1} r \\frac{\\partial (r A_\\varphi)}{\\partial r} \\right) + \\frac{\\partial}{\\partial z} \\left( \\mu^{-1} \\frac{\\partial A_\\varphi}{\\partial z} \\right) = j_\\varphi\n",
    "$$\n",
    "\n",
    "Die schwache Formulierung ergibt sich, indem man beide Seiten mit einer Testfunktion  $v$ multipliziert und über das Volumen  $\\Omega$ integriert:\n",
    "\n",
    "$$\n",
    "\\int_\\Omega \\left( \\sigma_j \\omega A_\\varphi v - \\frac{\\partial}{\\partial r} \\left( \\mu^{-1} r \\frac{\\partial (r A_\\varphi)}{\\partial r} \\right) v + \\frac{\\partial}{\\partial z} \\left( \\mu^{-1} \\frac{\\partial A_\\varphi}{\\partial z} \\right) v \\right) \\, d\\Omega = \\int_\\Omega j_\\varphi v \\, d\\Omega\n",
    "$$\n",
    "\n",
    "Durch partielle Integration erhalten wir:\n",
    "\n",
    "$$\n",
    "\\int_\\Omega - \\frac{\\partial}{\\partial r} \\left( \\mu^{-1} r \\frac{\\partial (r A_\\varphi)}{\\partial r} \\right) v \\, d\\Omega = \\int_\\Omega \\mu^{-1} r \\frac{\\partial (r A_\\varphi)}{\\partial r} \\frac{\\partial v}{\\partial r} \\, d\\Omega\n",
    "$$\n",
    "\n",
    "$$\n",
    "\\int_\\Omega - \\frac{\\partial}{\\partial z} \\left( \\mu^{-1} \\frac{\\partial A_\\varphi}{\\partial z} \\right) v \\, d\\Omega = \\int_\\Omega \\mu^{-1} \\frac{\\partial A_\\varphi}{\\partial z} \\frac{\\partial v}{\\partial z} \\, d\\Omega\n",
    "$$\n",
    "\n",
    "Die schwache Formulierung der Differentialgleichung lautet:\n",
    "\n",
    "$$\n",
    "a(A_\\varphi, v) = f(v)\n",
    "$$\n",
    "\n",
    "wobei die Bilinearform  $a(A_\\varphi, v)$  durch die folgenden Terme definiert ist:\n",
    "\n",
    "$$\n",
    "a(A_\\varphi, v) = \\int_\\Omega \\sigma_j \\omega A_\\varphi v \\, d\\Omega + \\int_\\Omega \\mu^{-1} r \\frac{\\partial (r A_\\varphi)}{\\partial r} \\frac{\\partial v}{\\partial r} \\, d\\Omega + \\int_\\Omega \\mu^{-1} \\frac{\\partial A_\\varphi}{\\partial z} \\frac{\\partial v}{\\partial z} \\, d\\Omega\n",
    "$$\n",
    "\n",
    "Der Lastvektor  $f(v)$  ist gegeben durch:\n",
    "\n",
    "$$\n",
    "f(v) = \\int_\\Omega j_\\varphi v \\, d\\Omega\n",
    "$$\n"
   ]
  },
  {
   "cell_type": "code",
   "execution_count": 20,
   "metadata": {},
   "outputs": [],
   "source": [
    "### Listing 1 : Definition FE-Raum für Wirbelstromproblem\n",
    "V = H1(mesh,order=3, complex = True, dirichlet='rotsym')\n",
    "u,v = V.TnT()\n",
    "gfu = GridFunction(V)"
   ]
  },
  {
   "cell_type": "code",
   "execution_count": null,
   "metadata": {},
   "outputs": [
    {
     "data": {
      "application/vnd.jupyter.widget-view+json": {
       "model_id": "1ce36745a5bb4fabb1db8c1c0278dcd9",
       "version_major": 2,
       "version_minor": 0
      },
      "text/plain": [
       "WebGuiWidget(layout=Layout(height='500px', width='100%'), value={'gui_settings': {'Complex': {'phase': 0.0, 's…"
      ]
     },
     "metadata": {},
     "output_type": "display_data"
    },
    {
     "data": {
      "text/plain": [
       "BaseWebGuiScene"
      ]
     },
     "execution_count": 21,
     "metadata": {},
     "output_type": "execute_result"
    }
   ],
   "source": [
    "### Listing 2 : Definition Wirbelstrom Problem\n",
    "\n",
    "#Wechsel in Zylinderkoordinaten (er wird nur ein Queerschnitt dargestellt (phi = 0))\n",
    "r = y\n",
    "z = x\n",
    "uz, ur = grad(u)\n",
    "vz, vr = grad(v) \n",
    "\n",
    "a = BilinearForm(V) # Inegral über Omega\n",
    "a += (nu*(1/r*u+ur)*vr + nu*uz*vz)*dx\n",
    "a += 1j*omega*sigma*u*v*dx(definedon=mesh.Materials('copper|core'))\n",
    "\n",
    "Jimp = CoefficientFunction([0,ic/(r_wire**2*pi),0])\n",
    "\n",
    "f = LinearForm(V)\n",
    "f += Jimp*v*dx(definedon=mesh.Materials('copper'))\n",
    "\n",
    "a.Assemble()\n",
    "f.Assemble()\n",
    "\n",
    "gfu.vec.data = a.mat.Inverse(V.FreeDofs()) * f.vec\n",
    "\n",
    "Draw(gfu)\n"
   ]
  },
  {
   "cell_type": "markdown",
   "metadata": {},
   "source": [
    "#### 2 Induktive Wärmequelle\n",
    "Die Formel (7) für die induktive Wärmequelle lautet:\n",
    "\n",
    "$$\n",
    "q = \\frac{1}{2} | \\mathbf{J} \\cdot \\mathbf{E} | = \\frac{\\sigma}{2} |\\mathbf{E}|^2\n",
    "$$\n",
    "\n",
    "Dabei gilt:\n",
    "\n",
    "$\\sigma$ ist die elektrische Leitfähigkeit (z. B. $56 \\times 10^6 \\, \\text{S/m}$ für Kupfer)\n",
    "\n",
    "$\\mathbf{E}$ ist das elektrische Feld\n",
    "\n",
    "$$\n",
    "\\mathbf{J} = \\sigma \\mathbf{E} \\quad \\text{(Ohmsches Gesetz für Leiter)}\n",
    "$$\n",
    "\n",
    "Die Größe $q$ beschreibt die Wärmeerzeugung pro Volumen $(\\text{W/m}^3)$ aufgrund des induktiven Joule-Effekts.\n",
    "\n",
    "Im rotationssymmetrischen Fall ist das elektrische Feld gegeben durch:\n",
    "\n",
    "$$\n",
    "\\mathbf{E} = -j \\omega A_\\varphi \\quad \\text{(laut Formel (6))}\n",
    "$$\n",
    "\n",
    "Da wir das Quadrat des Betrags benötigen:\n",
    "\n",
    "$$\n",
    "|\\mathbf{E}|^2 = |\\omega A_\\varphi|^2 = \\omega^2 |A_\\varphi|^2\n",
    "$$\n",
    "\n",
    "Daraus ergibt sich die Wärmequelle $q$:\n",
    "\n",
    "$$\n",
    "q = \\frac{\\sigma}{2} \\omega^2 |A_\\varphi|^2\n",
    "$$"
   ]
  },
  {
   "cell_type": "code",
   "execution_count": null,
   "metadata": {},
   "outputs": [
    {
     "data": {
      "application/vnd.jupyter.widget-view+json": {
       "model_id": "f78466386d254fd786777ff8ea927195",
       "version_major": 2,
       "version_minor": 0
      },
      "text/plain": [
       "WebGuiWidget(layout=Layout(height='500px', width='100%'), value={'gui_settings': {}, 'ngsolve_version': '6.2.2…"
      ]
     },
     "metadata": {},
     "output_type": "display_data"
    },
    {
     "data": {
      "text/plain": [
       "BaseWebGuiScene"
      ]
     },
     "execution_count": 33,
     "metadata": {},
     "output_type": "execute_result"
    }
   ],
   "source": [
    "### Listing 3 : Berechnung der induktiven Wärmequelle\n",
    "Ez = -1j*omega*gfu\n",
    "Jz = sigma*Ez\n",
    "Jtot = Jz + Jimp\n",
    "Qe = 1/2*Norm(InnerProduct(Jtot,Conj(Ez)))\n",
    "\n",
    "Qe = CoefficientFunction(Qe,)\n",
    "\n",
    "Draw(Qe, mesh)\n"
   ]
  },
  {
   "cell_type": "code",
   "execution_count": null,
   "metadata": {},
   "outputs": [],
   "source": [
    "### Listing 4 : FE-Raum für die Temperaturverteilung\n",
    "V2 = H1(mesh, order = 4, dirichlet = 'outer')\n",
    "uT,vT = V2.TnT()\n",
    "gfT = GridFunction(V2)\n",
    "\n"
   ]
  },
  {
   "cell_type": "code",
   "execution_count": null,
   "metadata": {},
   "outputs": [],
   "source": [
    "### Listing 5 : Bilinearform Temperaturfeld\n",
    "aT = BilinearForm(V2)\n",
    "aT += lam*grad(uT)*grad(vT)*dx\n",
    "\n",
    "fT = LinearForm(V2)\n",
    "fT += Qe*vT*dx\n",
    "\n",
    "aT.Assemble()\n",
    "fT.Assemble()\n",
    "\n"
   ]
  },
  {
   "cell_type": "code",
   "execution_count": null,
   "metadata": {},
   "outputs": [],
   "source": [
    "### Listing 6 : Geometrie Beispiel\n",
    "from netgen.geom2d import SplineGeometry\n",
    "l_air = 0.1\n",
    "r_wire = 0.001\n",
    "nx_wire = 10\n",
    "ny_wire = 3\n",
    "dxdy_wire = 0.5*r_wire\n",
    "\n",
    "rA_core = 0.01\n",
    "rI_core = 0.008\n",
    "l_core = 0.08\n",
    "epsZero = 1e-8\n",
    "\n",
    "geo = SplineGeometry()\n",
    "geo.AddRectangle(p1=(-l_air/2,epsZero),\n",
    "                 p2=(l_air/2,l_air/2),\n",
    "                 bcs=[\"rotsym\",\"outer\",\"outer\",\"outer\"],\n",
    "                 leftdomain=1,\n",
    "                 rightdomain=0)\n",
    "pts = []\n",
    "for i in range(nx_wire):\n",
    "    for j in range(ny_wire):\n",
    "        pts.append([\n",
    "            i*(2*r_wire+dxdy_wire), \n",
    "            rA_core+dxdy_wire+r_wire+j*(2*r_wire+dxdy_wire)\n",
    "        ])\n",
    "        geo.AddCircle(\n",
    "            c=(i*(2*r_wire+dxdy_wire), \n",
    "               rA_core+dxdy_wire+r_wire+j*(2*r_wire+dxdy_wire)),\n",
    "            r=r_wire, bc=\"inner\",\n",
    "            leftdomain=2,\n",
    "            rightdomain=1)\n",
    "pts = np.array(pts)\n",
    "geo.AddRectangle(p1=(-l_core/2,rI_core),\n",
    "                 p2=(l_core/2,rA_core),\n",
    "                 bc=\"inner\",\n",
    "                 leftdomain=3,\n",
    "                 rightdomain=1)\n",
    "geo.SetMaterial (1, \"air\")\n",
    "geo.SetMaterial (2, \"copper\")\n",
    "geo.SetMaterial (3, \"core\")\n",
    "geo.SetDomainMaxH(3,(rA_core-rI_core)/2)\n",
    "\n",
    "mesh = Mesh(geo.GenerateMesh(maxh=0.0025))\n",
    "\n",
    "### Listing 7 : Definition der vom Gebiet abhängigen Materialparameter.\n",
    "omega = 2*pi*50\n",
    "mu0 = 4*pi*1e-7\n",
    "\n",
    "sigmaCu = 56e6\n",
    "sigmaCore = 56e6 #Kupfer\n",
    "sigma = CoefficientFunction([0, sigmaCu, sigmaCore])\n",
    "mur = CoefficientFunction([1,1,1])\n",
    "nu = CoefficientFunction(1/mu0*1/mur)"
   ]
  }
 ],
 "metadata": {
  "kernelspec": {
   "display_name": "venv",
   "language": "python",
   "name": "python3"
  },
  "language_info": {
   "codemirror_mode": {
    "name": "ipython",
    "version": 3
   },
   "file_extension": ".py",
   "mimetype": "text/x-python",
   "name": "python",
   "nbconvert_exporter": "python",
   "pygments_lexer": "ipython3",
   "version": "3.12.2"
  }
 },
 "nbformat": 4,
 "nbformat_minor": 2
}
