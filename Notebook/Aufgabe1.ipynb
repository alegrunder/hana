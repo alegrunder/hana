{
 "cells": [
  {
   "cell_type": "markdown",
   "metadata": {},
   "source": [
    "# Projekt Code Induktive Erwärmung"
   ]
  },
  {
   "cell_type": "code",
   "execution_count": 1,
   "metadata": {},
   "outputs": [],
   "source": [
    "from ngsolve import *\n",
    "from netgen.geom2d import unit_square\n",
    "from ngsolve.webgui import Draw\n",
    "from netgen.csg import *\n",
    "from netgen.geom2d import SplineGeometry\n",
    "import math\n",
    "import numpy as np"
   ]
  },
  {
   "cell_type": "markdown",
   "metadata": {},
   "source": [
    "### Konstanten"
   ]
  },
  {
   "cell_type": "code",
   "execution_count": 2,
   "metadata": {},
   "outputs": [],
   "source": [
    "omega = 2*pi*50     # Frequenz 50 Hz\n",
    "mu0 = 4*pi*1e-7     # Magnetische Feldkonstante\n",
    "\n",
    "sigmaCu = 56e6      # S/m (Kupfer)\n",
    "sigmaCore = 56e6    # S/m (Kupfer)\n",
    "\n",
    "# Reihenfolge: air, copper, core\n",
    "sigma = CoefficientFunction([0 , sigmaCu , sigmaCore ])\n",
    "mur = CoefficientFunction([1 ,1 ,1])\n",
    "nu = CoefficientFunction(1/mu0 * 1/mur ) # Permeabilität des Materials\n",
    "\n",
    "ic = 10             # Strom in den Windungen (A)\n",
    "\n",
    "# Mesh Generation\n",
    "l_air = 0.1         # Grosse der dargestellten Luft um denn Versuchsaufbau\n",
    "r_wire = 0.001      # Drahtdurchmesser in Metern\n",
    "nx_wire = 10        # Anzahl Kabel in X-Richtung\n",
    "ny_wire = 3         # Anzahl Kabel in Y-Richtung\n",
    "dxdy_wire = 0.5*r_wire\n",
    "\n",
    "rA_core = 0.01      # Core Höhe\n",
    "rI_core = 0.008\n",
    "l_core = 0.08       # Core Länge\n",
    "epsZero = 1e-8"
   ]
  },
  {
   "cell_type": "markdown",
   "metadata": {},
   "source": [
    "### Mesh generation"
   ]
  },
  {
   "cell_type": "code",
   "execution_count": 3,
   "metadata": {},
   "outputs": [
    {
     "data": {
      "application/vnd.jupyter.widget-view+json": {
       "model_id": "72c1b2e975f849d6ae530721ec3d9174",
       "version_major": 2,
       "version_minor": 0
      },
      "text/plain": [
       "WebGuiWidget(layout=Layout(height='50vh', width='100%'), value={'gui_settings': {}, 'ngsolve_version': '6.2.24…"
      ]
     },
     "metadata": {},
     "output_type": "display_data"
    },
    {
     "data": {
      "text/plain": [
       "BaseWebGuiScene"
      ]
     },
     "execution_count": 3,
     "metadata": {},
     "output_type": "execute_result"
    }
   ],
   "source": [
    "geo = SplineGeometry()\n",
    "geo.AddRectangle(p1=(-l_air/2,epsZero),\n",
    "                 p2=(l_air/2,l_air/2),\n",
    "                 bcs=[\"rotsym\",\"outer\",\"outer\",\"outer\"],\n",
    "                 leftdomain=1,\n",
    "                 rightdomain=0)\n",
    "pts = []\n",
    "for i in range(nx_wire):\n",
    "    for j in range(ny_wire):\n",
    "        pts.append([\n",
    "            i*(2*r_wire+dxdy_wire), \n",
    "            rA_core+dxdy_wire+r_wire+j*(2*r_wire+dxdy_wire)\n",
    "        ])\n",
    "        geo.AddCircle(\n",
    "            c=(i*(2*r_wire+dxdy_wire), \n",
    "               rA_core+dxdy_wire+r_wire+j*(2*r_wire+dxdy_wire)),\n",
    "            r=r_wire, bc=\"inner\",\n",
    "            leftdomain=2,\n",
    "            rightdomain=1)\n",
    "pts = np.array(pts)\n",
    "geo.AddRectangle(p1=(-l_core/2,rI_core),\n",
    "                 p2=(l_core/2,rA_core),\n",
    "                 bc=\"inner\",\n",
    "                 leftdomain=3,\n",
    "                 rightdomain=1)\n",
    "geo.SetMaterial (1, \"air\")\n",
    "geo.SetMaterial (2, \"copper\")\n",
    "geo.SetMaterial (3, \"core\")\n",
    "geo.SetDomainMaxH(3,(rA_core-rI_core)/2)\n",
    "\n",
    "mesh = Mesh(geo.GenerateMesh(maxh=0.0025))\n",
    "\n",
    "# Visualisierung\n",
    "mat_mapping = {name: i+1 for i, name in enumerate(mesh.GetMaterials())}\n",
    "cf = mesh.MaterialCF(mat_mapping)\n",
    "Draw(cf, mesh, \"material_colors\")"
   ]
  },
  {
   "cell_type": "markdown",
   "metadata": {},
   "source": [
    "## Aufgabe 1\n",
    "1) Wie lautet die schwache Gleichung für die partielle Differentialgleichung (4)? Verifizieren Sie diese am Listing 2.\n",
    "2) Berechnen Sie die Lösung und stellen Sie diese graphisch dar. Nutze Sie für die\n",
    "Berechnung die Formel (5).\n",
    "3) Berechnen Sie die induktive Wärmequelle q mit Hilfe von Formel (7)."
   ]
  },
  {
   "cell_type": "markdown",
   "metadata": {},
   "source": [
    "#### 1) Schwache Gleichung der partiellen Differentialgleichung\n",
    "\n",
    "Die Differentialgleichung lautet:\n",
    "$$\n",
    "\\sigma j \\omega A_\\phi - \\left( \\frac{\\partial}{\\partial r} \\left( \\frac{\\mu^{-1}}{r} \\frac{\\partial (r A_\\phi)}{\\partial r} \\right) + \\frac{\\partial}{\\partial z} \\left( \\mu^{-1} \\frac{\\partial A_\\phi}{\\partial z} \\right) \\right) = j_\\phi\n",
    "$$\n",
    "\n",
    "Die schwache Formulierung ergibt sich, indem man beide Seiten mit einer Testfunktion  $v \\in H^1$ (komplexwertiger FE-Raum) multipliziert und über das Volumen  $\\Omega$ integriert:\n",
    "\n",
    "$$\n",
    "\\int_\\Omega \\left( \\sigma j \\omega A_\\phi v - \\frac{\\partial}{\\partial r} \\left( \\frac{\\mu^{-1}}{r} \\frac{\\partial (r A_\\phi)}{\\partial r} \\right) v - \\frac{\\partial}{\\partial z} \\left( \\mu^{-1} \\frac{\\partial A_\\phi}{\\partial z} \\right) v \\right) \\, d\\Omega = \\int_\\Omega j_\\phi v \\, d\\Omega\n",
    "$$\n",
    "\n",
    "Das Teilintegral mit zwei Ableitungen nach $r$ lässt sich u.A. durch partielle Integration vereinfachen.\n",
    "$$ \\frac{\\partial (r A_\\phi)}{\\partial r}=A_\\phi + r \\frac{\\partial (A_\\phi)}{\\partial r} \\quad (Produktregel)$$\n",
    "$$\n",
    "\\int_\\Omega - \\frac{\\partial}{\\partial r} \\left( \\frac{\\mu^{-1}}{r} \\frac{\\partial (r A_\\phi)}{\\partial r} \\right) v \\, d\\Omega = \\underbrace{ \\left[ - \\frac{\\mu^{-1}}{r} \\frac{\\partial (r A_\\phi)}{\\partial r} v \\right]_{\\partial\\Omega}}_{=0} +\n",
    "\\int_\\Omega \\frac{\\mu^{-1}}{r} \\frac{\\partial (r A_\\phi)}{\\partial r} \\frac{\\partial v}{\\partial r} \\, d\\Omega =  \\int_\\Omega \\mu^{-1} \\left( \\frac{A_\\phi}{r} +  \\frac{\\partial A_\\phi}{\\partial r} \\right)  \\frac{\\partial v}{\\partial r} \\, d\\Omega \n",
    "$$\n",
    "\n",
    "Die partielle Integration wird auch aufs Teilintegral mit zwei Ableitungen nach $z$ angewendet.\n",
    "$$\n",
    "\\int_\\Omega - \\frac{\\partial}{\\partial z} \\left( \\mu^{-1} \\frac{\\partial A_\\phi}{\\partial z} \\right) v \\, d\\Omega = \\underbrace{ \\left[ - \\mu^{-1} \\frac{\\partial A_\\phi}{\\partial z} v \\right]_{\\partial\\Omega}}_{=0} +\n",
    "\\int_\\Omega \\mu^{-1} \\frac{\\partial A_\\phi}{\\partial z} \\frac{\\partial v}{\\partial z} \\, d\\Omega\n",
    "$$\n",
    "\n",
    "Die schwache Formulierung der Differentialgleichung lautet:\n",
    "\n",
    "> $$ \\underbrace{ \\int_\\Omega \\sigma j \\omega A_\\phi v  + \\mu^{-1} \\left( \\frac{A_\\phi}{r} +  \\frac{\\partial A_\\phi}{\\partial r} \\right)  \\frac{\\partial v}{\\partial r} + \\mu^{-1} \\frac{\\partial A_\\phi}{\\partial z} \\frac{\\partial v}{\\partial z} \\, d\\Omega }_{\\text{Bilinearform } a(A_\\phi, v)} = \\underbrace{ \\int_\\Omega j_\\phi v \\, d\\Omega }_{\\text{Linearfrom }  f(v)} $$\n",
    "\n",
    "wobei die Bilinearform  $a(A_\\phi, v)$  durch die folgenden Terme definiert ist:\n",
    "\n",
    "$$\n",
    "a(A_\\phi, v) = \\int_\\Omega \\sigma j \\omega A_\\phi v \\, d\\Omega + \\int_\\Omega \\mu^{-1} \\left( \\frac{A_\\phi}{r} +  \\frac{\\partial A_\\phi}{\\partial r} \\right)  \\frac{\\partial v}{\\partial r} \\, d\\Omega  + \\int_\\Omega \\mu^{-1} \\frac{\\partial A_\\phi}{\\partial z} \\frac{\\partial v}{\\partial z} \\, d\\Omega\n",
    "$$"
   ]
  },
  {
   "cell_type": "markdown",
   "metadata": {},
   "source": [
    "#### 2) Numerische Lösung\n",
    "##### Berechnung von $A_\\phi$"
   ]
  },
  {
   "cell_type": "code",
   "execution_count": 4,
   "metadata": {},
   "outputs": [],
   "source": [
    "### Listing 1 : Definition FE-Raum für Wirbelstromproblem\n",
    "V = H1(mesh,order=3, complex = True, dirichlet='rotsym')\n",
    "u,v = V.TnT()\n",
    "gfu = GridFunction(V)"
   ]
  },
  {
   "cell_type": "code",
   "execution_count": 5,
   "metadata": {},
   "outputs": [
    {
     "name": "stdout",
     "output_type": "stream",
     "text": [
      "A_phi (Norm)\n"
     ]
    },
    {
     "data": {
      "application/vnd.jupyter.widget-view+json": {
       "model_id": "81398fe891754397a24bb865622a0eca",
       "version_major": 2,
       "version_minor": 0
      },
      "text/plain": [
       "WebGuiWidget(layout=Layout(height='50vh', width='100%'), value={'gui_settings': {}, 'ngsolve_version': '6.2.24…"
      ]
     },
     "metadata": {},
     "output_type": "display_data"
    },
    {
     "data": {
      "text/plain": [
       "BaseWebGuiScene"
      ]
     },
     "execution_count": 5,
     "metadata": {},
     "output_type": "execute_result"
    }
   ],
   "source": [
    "### Listing 2 : Definition Wirbelstrom Problem\n",
    "# Wechsel in Zylinderkoordinaten (es wird nur ein Querschnitt dargestellt (phi = 0))\n",
    "r = y\n",
    "z = x\n",
    "uz, ur = grad(u)\n",
    "vz, vr = grad(v) \n",
    "\n",
    "# Schwache Gleichung als Bilinearform\n",
    "a = BilinearForm(V)\n",
    "a += (nu*(1/r*u+ur)*vr + nu*uz*vz)*dx # erster Bilinear term\n",
    "a += 1j*omega*sigma*u*v*dx(definedon=mesh.Materials('copper|core')) # zweiter Bilinear term (sigma=0 in Luft)\n",
    "\n",
    "Jimp = CoefficientFunction([0,ic/(r_wire**2*pi),0]) # Richtung und Stärke des Stroms al Impuls angegeben\n",
    "\n",
    "f = LinearForm(V)\n",
    "f += Jimp*v*dx(definedon=mesh.Materials('copper'))\n",
    "\n",
    "a.Assemble()\n",
    "f.Assemble()\n",
    "\n",
    "gfu.vec.data = a.mat.Inverse(V.FreeDofs()) * f.vec\n",
    "\n",
    "print(\"A_phi (Norm)\")\n",
    "Draw(Norm(gfu), mesh, \"A_phi\")"
   ]
  },
  {
   "cell_type": "markdown",
   "metadata": {},
   "source": [
    "##### Berechnung von $B_r$ und $B_z$\n",
    "$$ B_r = - \\frac{\\partial A_\\phi}{\\partial z}$$\n",
    "\n",
    "$$ B_z = \\frac{1}{r} \\frac{\\partial (r A_\\phi)}{\\partial r} = \\frac{A_\\phi}{r} + \\frac{\\partial (A_\\phi)}{\\partial r}$$"
   ]
  },
  {
   "cell_type": "code",
   "execution_count": 6,
   "metadata": {},
   "outputs": [
    {
     "name": "stdout",
     "output_type": "stream",
     "text": [
      "B_z:\n"
     ]
    },
    {
     "data": {
      "application/vnd.jupyter.widget-view+json": {
       "model_id": "ac8d8a6485b049f4809b7f03c77ad45f",
       "version_major": 2,
       "version_minor": 0
      },
      "text/plain": [
       "WebGuiWidget(layout=Layout(height='50vh', width='100%'), value={'gui_settings': {}, 'ngsolve_version': '6.2.24…"
      ]
     },
     "metadata": {},
     "output_type": "display_data"
    },
    {
     "name": "stdout",
     "output_type": "stream",
     "text": [
      "B_r:\n"
     ]
    },
    {
     "data": {
      "application/vnd.jupyter.widget-view+json": {
       "model_id": "f89d10b2bb0f45e1ad9e526bc4241ccd",
       "version_major": 2,
       "version_minor": 0
      },
      "text/plain": [
       "WebGuiWidget(layout=Layout(height='50vh', width='100%'), value={'gui_settings': {}, 'ngsolve_version': '6.2.24…"
      ]
     },
     "metadata": {},
     "output_type": "display_data"
    },
    {
     "name": "stdout",
     "output_type": "stream",
     "text": [
      "B = (B_z, B_r) (Vector):\n"
     ]
    },
    {
     "data": {
      "application/vnd.jupyter.widget-view+json": {
       "model_id": "42d1ba7ba76842f0944f21fd295a2844",
       "version_major": 2,
       "version_minor": 0
      },
      "text/plain": [
       "WebGuiWidget(layout=Layout(height='50vh', width='100%'), value={'gui_settings': {}, 'ngsolve_version': '6.2.24…"
      ]
     },
     "metadata": {},
     "output_type": "display_data"
    },
    {
     "ename": "NameError",
     "evalue": "name 'Vreal' is not defined",
     "output_type": "error",
     "traceback": [
      "\u001b[0;31m---------------------------------------------------------------------------\u001b[0m",
      "\u001b[0;31mNameError\u001b[0m                                 Traceback (most recent call last)",
      "Cell \u001b[0;32mIn[6], line 28\u001b[0m\n\u001b[1;32m     25\u001b[0m \u001b[38;5;28mprint\u001b[39m(\u001b[38;5;124m\"\u001b[39m\u001b[38;5;124mB = (B_z, B_r) (Vector):\u001b[39m\u001b[38;5;124m\"\u001b[39m)\n\u001b[1;32m     26\u001b[0m Draw(B_field, mesh, \u001b[38;5;124m\"\u001b[39m\u001b[38;5;124mB (Vector Field)\u001b[39m\u001b[38;5;124m\"\u001b[39m, vectors\u001b[38;5;241m=\u001b[39m\u001b[38;5;28;01mTrue\u001b[39;00m)\n\u001b[0;32m---> 28\u001b[0m B_field_mag \u001b[38;5;241m=\u001b[39m GridFunction(\u001b[43mVreal\u001b[49m)\n\u001b[1;32m     29\u001b[0m \u001b[38;5;28mprint\u001b[39m(\u001b[38;5;124m\"\u001b[39m\u001b[38;5;124mB (Norm):\u001b[39m\u001b[38;5;124m\"\u001b[39m)\n\u001b[1;32m     30\u001b[0m Draw(Norm(B_field), mesh, \u001b[38;5;124m\"\u001b[39m\u001b[38;5;124mB (complex)\u001b[39m\u001b[38;5;124m\"\u001b[39m, vectors\u001b[38;5;241m=\u001b[39m\u001b[38;5;28;01mTrue\u001b[39;00m)\n",
      "\u001b[0;31mNameError\u001b[0m: name 'Vreal' is not defined"
     ]
    }
   ],
   "source": [
    "# Create the coefficient functions\n",
    "grad_gfu = grad(gfu)\n",
    "B_r = -grad_gfu[0]  # Negative derivative with respect to z (x-coordinate)\n",
    "#B_z = gfu / r + grad_gfu[1]  # Derivative with respect to r (y-coordinate)\n",
    "rAphi = GridFunction(V)\n",
    "rAphi.Set(r * gfu)\n",
    "B_z = grad(rAphi)[1] / r\n",
    "B_z = IfPos(r-epsZero, B_z, 0) # Handle potential division by zero at r=0 axis\n",
    "\n",
    "# Create GridFunctions for visualization\n",
    "B_r_gf = GridFunction(V)\n",
    "B_z_gf = GridFunction(V)\n",
    "# Project the expressions onto the finite element space\n",
    "B_r_gf.Set(B_r)\n",
    "B_z_gf.Set(B_z)\n",
    "\n",
    "# Visualize Components\n",
    "print(\"B_z:\")\n",
    "Draw(Norm(B_z_gf), mesh, \"B_z\")\n",
    "print(\"B_r:\")\n",
    "Draw(Norm(B_r_gf), mesh, \"B_r\")\n",
    "\n",
    "# Visualize as vector field\n",
    "B_field = CoefficientFunction((Norm(B_z_gf), Norm(B_r_gf)))  # For 2D visualization\n",
    "print(\"B = (B_z, B_r) (Vector):\")\n",
    "Draw(B_field, mesh, \"B (Vector Field)\", vectors=True)\n",
    "\n",
    "print(\"B (Norm):\")\n",
    "Draw(Norm(B_field), mesh, \"B (complex)\", vectors=True)\n"
   ]
  },
  {
   "cell_type": "markdown",
   "metadata": {},
   "source": [
    "#### 2 Induktive Wärmequelle\n",
    "Die Formel (7) für die induktive Wärmequelle lautet:\n",
    "\n",
    "$$\n",
    "q = \\frac{1}{2} | \\mathbf{J} \\cdot \\mathbf{E} | = \\frac{\\sigma}{2} |\\mathbf{E}|^2\n",
    "$$\n",
    "\n",
    "Dabei gilt:\n",
    "\n",
    "$\\sigma$ ist die elektrische Leitfähigkeit (z. B. $56 \\times 10^6 \\, \\text{S/m}$ für Kupfer)\n",
    "\n",
    "$\\mathbf{E}$ ist das elektrische Feld\n",
    "\n",
    "$$\n",
    "\\mathbf{J} = \\sigma \\mathbf{E} \\quad \\text{(Ohmsches Gesetz für Leiter)}\n",
    "$$\n",
    "\n",
    "Die Größe $q$ beschreibt die Wärmeerzeugung pro Volumen $(\\text{W/m}^3)$ aufgrund des induktiven Joule-Effekts.\n",
    "\n",
    "Im rotationssymmetrischen Fall ist das elektrische Feld gegeben durch:\n",
    "\n",
    "$$\n",
    "\\mathbf{E} = -j \\omega A_\\phi \\quad \\text{(laut Formel (6))}\n",
    "$$\n",
    "\n",
    "Da wir das Quadrat des Betrags benötigen:\n",
    "\n",
    "$$\n",
    "|\\mathbf{E}|^2 = |\\omega A_\\phi|^2 = \\omega^2 |A_\\phi|^2\n",
    "$$\n",
    "\n",
    "Daraus ergibt sich die Wärmequelle $q$:\n",
    "\n",
    "$$\n",
    "q = \\frac{\\sigma}{2} \\omega^2 |A_\\phi|^2\n",
    "$$\n",
    "\n",
    "> stimmt so nicht, weil J = Jexp + J int"
   ]
  },
  {
   "cell_type": "code",
   "execution_count": null,
   "metadata": {},
   "outputs": [],
   "source": [
    "### Listing 3 : Berechnung der induktiven Wärmequelle\n",
    "Ez = -1j*omega*gfu  # Elektrische Feldstärke\n",
    "Jz = sigma*Ez       # Elektrischer Strom\n",
    "Jtot = Jz + Jimp\n",
    "Qe = 1/2*Norm(InnerProduct(Jtot,Conj(Ez))) # Induktive Wärmequelle\n",
    "#print(Qe)\n",
    "Draw(Qe, mesh)\n",
    "\n",
    "Q2 = 1/2 * sigma * Norm(gfu)**1\n",
    "#Q2 = 1/2 * Norm(sigma * InnerProduct(Ez, Conj(Ez)) + Jimp*Ez)\n",
    "Draw(Q2, mesh)\n",
    "\n",
    "Q3 = 1/2 * Norm( sigma * omega**2 * gfu*Conj(gfu) - 1j * omega * Jimp * gfu)\n",
    "\n",
    "Draw(Qe-Q2, mesh)\n",
    "Draw(Qe-Q3, mesh)\n",
    "\n"
   ]
  }
 ],
 "metadata": {
  "kernelspec": {
   "display_name": "Python 3 (ipykernel)",
   "language": "python",
   "name": "python3"
  },
  "language_info": {
   "codemirror_mode": {
    "name": "ipython",
    "version": 3
   },
   "file_extension": ".py",
   "mimetype": "text/x-python",
   "name": "python",
   "nbconvert_exporter": "python",
   "pygments_lexer": "ipython3",
   "version": "3.12.4"
  }
 },
 "nbformat": 4,
 "nbformat_minor": 4
}
