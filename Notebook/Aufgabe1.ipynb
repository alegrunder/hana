{
 "cells": [
  {
   "cell_type": "markdown",
   "metadata": {},
   "source": [
    "# Projekt Code Induktive Erwärmung\n",
    "## Aufgabe 1"
   ]
  },
  {
   "cell_type": "code",
   "execution_count": 5,
   "metadata": {},
   "outputs": [],
   "source": [
    "from ngsolve import *\n",
    "from netgen.geom2d import unit_square\n",
    "from ngsolve.webgui import Draw\n",
    "from netgen.csg import *\n",
    "from netgen.geom2d import SplineGeometry\n",
    "import math\n",
    "import numpy as np\n"
   ]
  },
  {
   "cell_type": "markdown",
   "metadata": {},
   "source": [
    "### Mesh generation"
   ]
  },
  {
   "cell_type": "code",
   "execution_count": 7,
   "metadata": {},
   "outputs": [
    {
     "data": {
      "application/vnd.jupyter.widget-view+json": {
       "model_id": "b7c311ee6e65495d9b8ce1fd6cb0d2b4",
       "version_major": 2,
       "version_minor": 0
      },
      "text/plain": [
       "WebGuiWidget(layout=Layout(height='500px', width='100%'), value={'gui_settings': {}, 'ngsolve_version': '6.2.2…"
      ]
     },
     "metadata": {},
     "output_type": "display_data"
    },
    {
     "data": {
      "text/plain": [
       "BaseWebGuiScene"
      ]
     },
     "execution_count": 7,
     "metadata": {},
     "output_type": "execute_result"
    }
   ],
   "source": [
    "l_air = 0.1\n",
    "r_wire = 0.001\n",
    "nx_wire = 10\n",
    "ny_wire = 3\n",
    "dxdy_wire = 0.5*r_wire\n",
    "\n",
    "rA_core = 0.01\n",
    "rI_core = 0.008\n",
    "l_core = 0.08\n",
    "epsZero = 1e-8\n",
    "\n",
    "geo = SplineGeometry()\n",
    "geo.AddRectangle(p1=(-l_air/2,epsZero),\n",
    "                 p2=(l_air/2,l_air/2),\n",
    "                 bcs=[\"rotsym\",\"outer\",\"outer\",\"outer\"],\n",
    "                 leftdomain=1,\n",
    "                 rightdomain=0)\n",
    "pts = []\n",
    "for i in range(nx_wire):\n",
    "    for j in range(ny_wire):\n",
    "        pts.append([\n",
    "            i*(2*r_wire+dxdy_wire), \n",
    "            rA_core+dxdy_wire+r_wire+j*(2*r_wire+dxdy_wire)\n",
    "        ])\n",
    "        geo.AddCircle(\n",
    "            c=(i*(2*r_wire+dxdy_wire), \n",
    "               rA_core+dxdy_wire+r_wire+j*(2*r_wire+dxdy_wire)),\n",
    "            r=r_wire, bc=\"inner\",\n",
    "            leftdomain=2,\n",
    "            rightdomain=1)\n",
    "pts = np.array(pts)\n",
    "geo.AddRectangle(p1=(-l_core/2,rI_core),\n",
    "                 p2=(l_core/2,rA_core),\n",
    "                 bc=\"inner\",\n",
    "                 leftdomain=3,\n",
    "                 rightdomain=1)\n",
    "geo.SetMaterial (1, \"air\")\n",
    "geo.SetMaterial (2, \"copper\")\n",
    "geo.SetMaterial (3, \"core\")\n",
    "geo.SetDomainMaxH(3,(rA_core-rI_core)/2)\n",
    "\n",
    "mesh = Mesh(geo.GenerateMesh(maxh=0.0025))\n",
    "\n",
    "# Visualisierung\n",
    "Draw(mesh)"
   ]
  },
  {
   "cell_type": "code",
   "execution_count": null,
   "metadata": {},
   "outputs": [],
   "source": [
    "### Listing 1 : Definition FE-Raum für Wirbelstromproblem\n",
    "V = H1(mesh,order=3, complex = True, dirichlet='rotsym')\n",
    "u,v = V.TnT()\n",
    "gfu = GridFunction(V)\n",
    "\n"
   ]
  },
  {
   "cell_type": "code",
   "execution_count": null,
   "metadata": {},
   "outputs": [],
   "source": [
    "### Listing 2 : Definition Wirbelstrom Problem\n",
    "r = y\n",
    "z = x\n",
    "\n",
    "uz, ur = grad(u) # partielle Ableitung nach z, r\n",
    "vz, vr = grad(v) \n",
    "\n",
    "a = BilinearForm(V)\n",
    "a += (nu*(1/r*u+ur)*vr + nu*uz*vz)*dx\n",
    "a += 1j*omega*sigma*u*v*\n",
    "     dx(definedon=mesh.Materials('copper|core'))\n",
    "\n",
    "Jimp = CoefficientFunction([0,ic/(r_wire**2*pi),0])\n",
    "\n",
    "f = LinearForm(V)\n",
    "f += Jimp*v*dx(definedon=mesh.Materials('copper'))\n",
    "\n",
    "a.Assemble()\n",
    "f.Assemble()\n",
    "\n"
   ]
  },
  {
   "cell_type": "code",
   "execution_count": null,
   "metadata": {},
   "outputs": [],
   "source": [
    "### Listing 3 : Berechnung der induktiven Wärmequelle\n",
    "Ez = -1j*omega*gfu\n",
    "Jz = sigma*Ez\n",
    "Jtot = Jz + Jimp\n",
    "Qe = 1/2*Norm(InnerProduct(Jtot,Conj(Ez)))\n",
    "\n"
   ]
  },
  {
   "cell_type": "code",
   "execution_count": null,
   "metadata": {},
   "outputs": [],
   "source": [
    "### Listing 4 : FE-Raum für die Temperaturverteilung\n",
    "V2 = H1(mesh, order = 4, dirichlet = 'outer')\n",
    "uT,vT = V2.TnT()\n",
    "gfT = GridFunction(V2)\n",
    "\n"
   ]
  },
  {
   "cell_type": "code",
   "execution_count": null,
   "metadata": {},
   "outputs": [],
   "source": [
    "### Listing 5 : Bilinearform Temperaturfeld\n",
    "aT = BilinearForm(V2)\n",
    "aT += lam*grad(uT)*grad(vT)*dx\n",
    "\n",
    "fT = LinearForm(V2)\n",
    "fT += Qe*vT*dx\n",
    "\n",
    "aT.Assemble()\n",
    "fT.Assemble()\n",
    "\n"
   ]
  },
  {
   "cell_type": "code",
   "execution_count": null,
   "metadata": {},
   "outputs": [],
   "source": [
    "### Listing 6 : Geometrie Beispiel\n",
    "from netgen.geom2d import SplineGeometry\n",
    "l_air = 0.1\n",
    "r_wire = 0.001\n",
    "nx_wire = 10\n",
    "ny_wire = 3\n",
    "dxdy_wire = 0.5*r_wire\n",
    "\n",
    "rA_core = 0.01\n",
    "rI_core = 0.008\n",
    "l_core = 0.08\n",
    "epsZero = 1e-8\n",
    "\n",
    "geo = SplineGeometry()\n",
    "geo.AddRectangle(p1=(-l_air/2,epsZero),\n",
    "                 p2=(l_air/2,l_air/2),\n",
    "                 bcs=[\"rotsym\",\"outer\",\"outer\",\"outer\"],\n",
    "                 leftdomain=1,\n",
    "                 rightdomain=0)\n",
    "pts = []\n",
    "for i in range(nx_wire):\n",
    "    for j in range(ny_wire):\n",
    "        pts.append([\n",
    "            i*(2*r_wire+dxdy_wire), \n",
    "            rA_core+dxdy_wire+r_wire+j*(2*r_wire+dxdy_wire)\n",
    "        ])\n",
    "        geo.AddCircle(\n",
    "            c=(i*(2*r_wire+dxdy_wire), \n",
    "               rA_core+dxdy_wire+r_wire+j*(2*r_wire+dxdy_wire)),\n",
    "            r=r_wire, bc=\"inner\",\n",
    "            leftdomain=2,\n",
    "            rightdomain=1)\n",
    "pts = np.array(pts)\n",
    "geo.AddRectangle(p1=(-l_core/2,rI_core),\n",
    "                 p2=(l_core/2,rA_core),\n",
    "                 bc=\"inner\",\n",
    "                 leftdomain=3,\n",
    "                 rightdomain=1)\n",
    "geo.SetMaterial (1, \"air\")\n",
    "geo.SetMaterial (2, \"copper\")\n",
    "geo.SetMaterial (3, \"core\")\n",
    "geo.SetDomainMaxH(3,(rA_core-rI_core)/2)\n",
    "\n",
    "mesh = Mesh(geo.GenerateMesh(maxh=0.0025))\n",
    "\n",
    "### Listing 7 : Definition der vom Gebiet abhängigen Materialparameter.\n",
    "omega = 2*pi*50\n",
    "mu0 = 4*pi*1e-7\n",
    "\n",
    "sigmaCu = 56e6\n",
    "sigmaCore = 56e6 #Kupfer\n",
    "sigma = CoefficientFunction([0, sigmaCu, sigmaCore])\n",
    "mur = CoefficientFunction([1,1,1])\n",
    "nu = CoefficientFunction(1/mu0*1/mur)"
   ]
  }
 ],
 "metadata": {
  "kernelspec": {
   "display_name": "venv",
   "language": "python",
   "name": "python3"
  },
  "language_info": {
   "codemirror_mode": {
    "name": "ipython",
    "version": 3
   },
   "file_extension": ".py",
   "mimetype": "text/x-python",
   "name": "python",
   "nbconvert_exporter": "python",
   "pygments_lexer": "ipython3",
   "version": "3.12.2"
  }
 },
 "nbformat": 4,
 "nbformat_minor": 2
}
