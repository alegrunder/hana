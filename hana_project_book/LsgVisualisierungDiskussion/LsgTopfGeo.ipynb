{
 "cells": [
  {
   "cell_type": "markdown",
   "id": "f9729c85-7379-484c-829f-09a1a8098581",
   "metadata": {},
   "source": [
    "# Lösung des Problems für Topf-Geometrie\n",
    "## Includes"
   ]
  },
  {
   "cell_type": "code",
   "execution_count": 1,
   "id": "11d58a99-5191-4025-bcc8-e256403a00d5",
   "metadata": {},
   "outputs": [],
   "source": [
    "import sys, os\n",
    "# Add the ImportExport directory to sys.path\n",
    "import_export_dir = os.path.join(os.path.join(os.getcwd(), '..'), 'ImportExport')\n",
    "if import_export_dir not in sys.path:\n",
    "    sys.path.append(import_export_dir)\n",
    "from global_parameters import *\n",
    "from EddyCurrentProblem import *\n",
    "from ThermalConductivityProblem import *\n",
    "from ngsolve import *\n",
    "from ngsolve.webgui import Draw\n",
    "from netgen.csg import *\n",
    "from netgen.geom2d import SplineGeometry\n",
    "import numpy as np"
   ]
  },
  {
   "cell_type": "markdown",
   "id": "6b0d58f6-ab10-4304-ba35-b1297e238cd4",
   "metadata": {},
   "source": [
    "## Importieren des Meshs und der Stromdichte"
   ]
  },
  {
   "cell_type": "code",
   "execution_count": 2,
   "id": "950b8716-f988-4b9a-baf3-d55b293d12ce",
   "metadata": {},
   "outputs": [],
   "source": [
    "mesh = Mesh(\"../ImportExport/myTopfMesh.vol\")\n",
    "Vstore = L2(mesh, order=4)\n",
    "Jimp = GridFunction(Vstore)\n",
    "Jimp.Load(\"../ImportExport/JimpTopfGeo.gf\")"
   ]
  },
  {
   "cell_type": "markdown",
   "id": "eac29ebf-18c2-4e49-ba8a-3615ccdaf970",
   "metadata": {},
   "source": [
    "## Lösung des Wirbelstromproblems (Vektorpotential $A_\\phi$)"
   ]
  },
  {
   "cell_type": "code",
   "execution_count": 3,
   "id": "22f4b82a-6d38-4dbc-9ab9-e0c9811ad5f7",
   "metadata": {},
   "outputs": [
    {
     "name": "stdout",
     "output_type": "stream",
     "text": [
      "Assembling BilinearForm 'a'...\n",
      "Assembling LinearForm 'f'...\n",
      "Solving system for A_phi...\n",
      "System solved.\n",
      "Drawing |A_phi| (Magnitude of A_phi)...\n"
     ]
    },
    {
     "data": {
      "application/vnd.jupyter.widget-view+json": {
       "model_id": "4b699b1422084d66a8e0603921de7f0c",
       "version_major": 2,
       "version_minor": 0
      },
      "text/plain": [
       "WebGuiWidget(layout=Layout(height='500px', width='100%'), value={'gui_settings': {}, 'ngsolve_version': '6.2.2…"
      ]
     },
     "metadata": {},
     "output_type": "display_data"
    }
   ],
   "source": [
    "# Create an instance of the problem\n",
    "ecp = EddyCurrentProblem(mesh, Jimp, omega, sigma, nu)\n",
    "\n",
    "# Solve the problem\n",
    "gfu = ecp.solve()\n",
    "\n",
    "# Draw the solution\n",
    "if gfu:\n",
    "    ecp.draw_solution()"
   ]
  },
  {
   "cell_type": "markdown",
   "id": "358e6a27-39e1-41ec-928f-55e5edb2b4f0",
   "metadata": {},
   "source": [
    "## Berechnung und Visualisierung B-Feld\n",
    "Aus dem Vektorpotential $A_\\phi$ können nun mit den Gleichungen {eq}`eq:Brotsym` die Komponenten des B-Feldes berechnet werden."
   ]
  },
  {
   "cell_type": "code",
   "execution_count": 4,
   "id": "5ca17c8e-69b9-4d86-929e-9425dffc8525",
   "metadata": {},
   "outputs": [
    {
     "name": "stdout",
     "output_type": "stream",
     "text": [
      "Calculating B-field components...\n",
      "B-field components calculated.\n",
      "Drawing B_z (complex)...\n"
     ]
    },
    {
     "data": {
      "application/vnd.jupyter.widget-view+json": {
       "model_id": "cc3430c0ad9549cf968f52bea6d26719",
       "version_major": 2,
       "version_minor": 0
      },
      "text/plain": [
       "WebGuiWidget(layout=Layout(height='500px', width='100%'), value={'gui_settings': {'Complex': {'phase': 0.0, 's…"
      ]
     },
     "metadata": {},
     "output_type": "display_data"
    },
    {
     "name": "stdout",
     "output_type": "stream",
     "text": [
      "Drawing B_r (complex)...\n"
     ]
    },
    {
     "data": {
      "application/vnd.jupyter.widget-view+json": {
       "model_id": "dac31e76c0f7489eb6920184bc3c4de1",
       "version_major": 2,
       "version_minor": 0
      },
      "text/plain": [
       "WebGuiWidget(layout=Layout(height='500px', width='100%'), value={'gui_settings': {'Complex': {'phase': 0.0, 's…"
      ]
     },
     "metadata": {},
     "output_type": "display_data"
    },
    {
     "name": "stdout",
     "output_type": "stream",
     "text": [
      "Drawing |B| (Magnitude of B-field)...\n"
     ]
    },
    {
     "data": {
      "application/vnd.jupyter.widget-view+json": {
       "model_id": "4709060240bb4cc999a3976f4d5812f0",
       "version_major": 2,
       "version_minor": 0
      },
      "text/plain": [
       "WebGuiWidget(layout=Layout(height='500px', width='100%'), value={'gui_settings': {}, 'ngsolve_version': '6.2.2…"
      ]
     },
     "metadata": {},
     "output_type": "display_data"
    }
   ],
   "source": [
    "ecp.calculate_b_field()\n",
    "ecp.draw_b_field_components()"
   ]
  },
  {
   "cell_type": "markdown",
   "id": "8ef05f98-3d3f-4e35-87c8-c4ebde2df972",
   "metadata": {},
   "source": [
    "## B-Feld zeitabhängig\n",
    "In Anlehnung an Gleichung {eq}`eq:Azeit` kann der Realteil des B-Feldes zeitabhängig dargestellt werden."
   ]
  },
  {
   "cell_type": "code",
   "execution_count": 5,
   "id": "7bd86c7a-169f-4a5d-bb76-9809de076e65",
   "metadata": {},
   "outputs": [
    {
     "name": "stdout",
     "output_type": "stream",
     "text": [
      "Drawing B-vector field (real part) at t = 0 ms ...\n"
     ]
    },
    {
     "data": {
      "application/vnd.jupyter.widget-view+json": {
       "model_id": "73812cdcd82f4aa986e9e33871758864",
       "version_major": 2,
       "version_minor": 0
      },
      "text/plain": [
       "WebGuiWidget(layout=Layout(height='500px', width='100%'), value={'gui_settings': {}, 'ngsolve_version': '6.2.2…"
      ]
     },
     "metadata": {},
     "output_type": "display_data"
    },
    {
     "name": "stdout",
     "output_type": "stream",
     "text": [
      "Drawing B-vector field (real part) at t = 10.0 ms ...\n"
     ]
    },
    {
     "data": {
      "application/vnd.jupyter.widget-view+json": {
       "model_id": "3349751054d647aea29fa56e9ca72ac4",
       "version_major": 2,
       "version_minor": 0
      },
      "text/plain": [
       "WebGuiWidget(layout=Layout(height='500px', width='100%'), value={'gui_settings': {}, 'ngsolve_version': '6.2.2…"
      ]
     },
     "metadata": {},
     "output_type": "display_data"
    }
   ],
   "source": [
    "ecp.draw_b_vector_field(time_val=0, vectors={\"grid_size\":30})\n",
    "ecp.draw_b_vector_field(time_val=10e-3, vectors={\"grid_size\":30})"
   ]
  },
  {
   "cell_type": "markdown",
   "id": "e0d7b700-d279-4edf-a33e-442d97420ea0",
   "metadata": {},
   "source": [
    "```{note}\n",
    "Folgende Dinge können am B-Feld beobachtet werden\n",
    "- Wie es für eine zylinderförmige Spule zu erwarten ist, ist das B-Feld in der Mitte am stärksten.\n",
    "- Die Feldlinien sind im Innern der Spule näherungsweise parallel zur Rotationsachse.\n",
    "- Das Feld ändert die Richtung periodisch (Pfeilrichtung daher bei $\\frac{T}{2} = 10\\, \\mathrm{ms}$ umgekehrt als bei $0\\, \\mathrm{ms}$)\n",
    "- Am Rand ist zu beobachten, was in {numref}`bfeld_rand` festgehalten ist.\n",
    "```"
   ]
  },
  {
   "cell_type": "markdown",
   "id": "720dc7fe-456b-4b9d-aac9-e84edbb08b98",
   "metadata": {},
   "source": [
    "## Induktive Wärmequelle\n",
    "Nun wird die induktive Wärmequelle gemäss {numref}`lst:induktiv_waerme` berechnet."
   ]
  },
  {
   "cell_type": "code",
   "execution_count": 6,
   "id": "8977914e-6c31-4d99-9e13-7d771ad41a6e",
   "metadata": {},
   "outputs": [
    {
     "name": "stdout",
     "output_type": "stream",
     "text": [
      "Calculating thermal source Qe...\n"
     ]
    },
    {
     "data": {
      "application/vnd.jupyter.widget-view+json": {
       "model_id": "64e4d10043044370ab1b2fa510848826",
       "version_major": 2,
       "version_minor": 0
      },
      "text/plain": [
       "WebGuiWidget(layout=Layout(height='500px', width='100%'), value={'gui_settings': {}, 'ngsolve_version': '6.2.2…"
      ]
     },
     "metadata": {},
     "output_type": "display_data"
    }
   ],
   "source": [
    "Qe = ecp.calculate_thermal_source()\n",
    "\n",
    "if Qe:\n",
    "    Draw(Qe, mesh)"
   ]
  },
  {
   "cell_type": "markdown",
   "id": "a95cd30a-5fb9-4d7e-80f7-d321ed67695b",
   "metadata": {},
   "source": [
    "## Stationäre Wärmeverteilung"
   ]
  },
  {
   "cell_type": "markdown",
   "id": "08d3f76f-c196-4f77-b2f4-56ef858d54eb",
   "metadata": {},
   "source": [
    "### Stationäre Wärmeverteilung homogener Dirichlet-Rand\n",
    "Nun werden für die äusseren Ränder homogene Dirichlet-Randwerte $(T=0)$ angenommen."
   ]
  },
  {
   "cell_type": "code",
   "execution_count": 7,
   "id": "0ce972ef-7d9f-4160-acce-b33a4f2a454a",
   "metadata": {},
   "outputs": [
    {
     "name": "stdout",
     "output_type": "stream",
     "text": [
      "Setting up H1 space with Dirichlet boundaries: 'outer_left|outer_top|outer_right'\n",
      "Assembling BilinearForm a_T...\n",
      "Assembling LinearForm f_T...\n",
      "Solving thermal system...\n",
      "Thermal system solved.\n",
      "Drawing Temperature...\n"
     ]
    },
    {
     "data": {
      "application/vnd.jupyter.widget-view+json": {
       "model_id": "b6373e7f83564fcab4bc9f90a57012ce",
       "version_major": 2,
       "version_minor": 0
      },
      "text/plain": [
       "WebGuiWidget(layout=Layout(height='500px', width='100%'), value={'gui_settings': {}, 'ngsolve_version': '6.2.2…"
      ]
     },
     "metadata": {},
     "output_type": "display_data"
    }
   ],
   "source": [
    "tp = ThermalConductivityProblem(mesh, Qe, lam, dirichlet_boundaries='outer_left|outer_top|outer_right')\n",
    "gfT = tp.solve()\n",
    "if gfT:\n",
    "    tp.draw_temperature_solution()"
   ]
  },
  {
   "cell_type": "markdown",
   "id": "106b4700-9e99-43b0-8712-02f1230c036f",
   "metadata": {},
   "source": [
    "### Lösen des Systems für Robin-Randwerte\n",
    "Wie in Abschnitt {ref}`ref:RobinRand` beschrieben, lässt sich eine teilweise Isolation mit Robin-Randbedingungen modellieren. Je tiefer der Parameter $\\alpha$, desto besser die Isolation."
   ]
  },
  {
   "cell_type": "code",
   "execution_count": 8,
   "id": "39fc0885-ad3e-47f4-b106-a1eb78a87061",
   "metadata": {},
   "outputs": [
    {
     "name": "stdout",
     "output_type": "stream",
     "text": [
      "Setting up H1 space with Dirichlet boundaries: ''\n",
      "Dirichlet boundaries updated to: ''\n",
      "Adding Robin BC on 'outer_left|outer_top|outer_right' with given alpha\n",
      "Assembling BilinearForm a_T...\n",
      "Assembling LinearForm f_T...\n",
      "Solving thermal system...\n",
      "Thermal system solved.\n",
      "Drawing Temperature...\n"
     ]
    },
    {
     "data": {
      "application/vnd.jupyter.widget-view+json": {
       "model_id": "299306171d0249648cfdfec964f96b17",
       "version_major": 2,
       "version_minor": 0
      },
      "text/plain": [
       "WebGuiWidget(layout=Layout(height='500px', width='100%'), value={'gui_settings': {}, 'ngsolve_version': '6.2.2…"
      ]
     },
     "metadata": {},
     "output_type": "display_data"
    }
   ],
   "source": [
    "tp.update_dirichlet_boundaries('')\n",
    "alpha = 10\n",
    "tp.add_robin_boundary_condition('outer_left|outer_top|outer_right', alpha, lamAir)\n",
    "gfT = tp.solve()\n",
    "if gfT:\n",
    "    tp.draw_temperature_solution()"
   ]
  }
 ],
 "metadata": {
  "kernelspec": {
   "display_name": "venv",
   "language": "python",
   "name": "python3"
  },
  "language_info": {
   "codemirror_mode": {
    "name": "ipython",
    "version": 3
   },
   "file_extension": ".py",
   "mimetype": "text/x-python",
   "name": "python",
   "nbconvert_exporter": "python",
   "pygments_lexer": "ipython3",
   "version": "3.12.2"
  }
 },
 "nbformat": 4,
 "nbformat_minor": 5
}
