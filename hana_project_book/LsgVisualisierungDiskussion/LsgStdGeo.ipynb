{
 "cells": [
  {
   "cell_type": "markdown",
   "id": "f9729c85-7379-484c-829f-09a1a8098581",
   "metadata": {},
   "source": [
    "# Lösung des Problems für Standard-Geometrie\n",
    "## Includes"
   ]
  },
  {
   "cell_type": "code",
   "execution_count": 1,
   "id": "11d58a99-5191-4025-bcc8-e256403a00d5",
   "metadata": {},
   "outputs": [],
   "source": [
    "import sys, os\n",
    "# Add the ImportExport directory to sys.path\n",
    "import_export_dir = os.path.join(os.path.join(os.getcwd(), '..'), 'ImportExport')\n",
    "if import_export_dir not in sys.path:\n",
    "    sys.path.append(import_export_dir)\n",
    "from global_parameters import *\n",
    "from EddyCurrentProblem import *\n",
    "from ngsolve import *\n",
    "from ngsolve.webgui import Draw\n",
    "from netgen.csg import *\n",
    "from netgen.geom2d import SplineGeometry\n",
    "import numpy as np"
   ]
  },
  {
   "cell_type": "markdown",
   "id": "6b0d58f6-ab10-4304-ba35-b1297e238cd4",
   "metadata": {},
   "source": [
    "## Importieren des Meshs und der Stromdichte"
   ]
  },
  {
   "cell_type": "code",
   "execution_count": 2,
   "id": "950b8716-f988-4b9a-baf3-d55b293d12ce",
   "metadata": {},
   "outputs": [],
   "source": [
    "mesh = Mesh(\"../ImportExport/myStdMesh.vol\")  # Load mesh\n",
    "Vstore = L2(mesh, order=4)\n",
    "Jimp = GridFunction(Vstore)\n",
    "Jimp.Load(\"../ImportExport/JimpStdGeo.gf\")"
   ]
  },
  {
   "cell_type": "markdown",
   "id": "eac29ebf-18c2-4e49-ba8a-3615ccdaf970",
   "metadata": {},
   "source": [
    "## Lösung des Wirbelstromproblems"
   ]
  },
  {
   "cell_type": "code",
   "execution_count": 3,
   "id": "22f4b82a-6d38-4dbc-9ab9-e0c9811ad5f7",
   "metadata": {},
   "outputs": [
    {
     "name": "stdout",
     "output_type": "stream",
     "text": [
      "Assembling...\n",
      "Solving system...\n",
      "System solved.\n",
      "Drawing A_phi (Norm)\n"
     ]
    },
    {
     "data": {
      "application/vnd.jupyter.widget-view+json": {
       "model_id": "eb8db24ad4f54a75926efed712f04ade",
       "version_major": 2,
       "version_minor": 0
      },
      "text/plain": [
       "WebGuiWidget(layout=Layout(height='50vh', width='100%'), value={'gui_settings': {}, 'ngsolve_version': '6.2.24…"
      ]
     },
     "metadata": {},
     "output_type": "display_data"
    }
   ],
   "source": [
    "# Create an instance of the problem\n",
    "problem = EddyCurrentProblem(mesh, Jimp, omega, sigma, nu)\n",
    "\n",
    "# Solve the problem\n",
    "solution_gfu = problem.solve()\n",
    "\n",
    "# Draw the solution\n",
    "if solution_gfu:\n",
    "    problem.draw_solution()"
   ]
  },
  {
   "cell_type": "code",
   "execution_count": null,
   "id": "5ca17c8e-69b9-4d86-929e-9425dffc8525",
   "metadata": {},
   "outputs": [],
   "source": []
  },
  {
   "cell_type": "markdown",
   "id": "766f09e0-7c0f-42d0-9d3e-baf9c538a720",
   "metadata": {},
   "source": [
    "## Mesh speichern"
   ]
  }
 ],
 "metadata": {
  "kernelspec": {
   "display_name": "Python 3 (ipykernel)",
   "language": "python",
   "name": "python3"
  },
  "language_info": {
   "codemirror_mode": {
    "name": "ipython",
    "version": 3
   },
   "file_extension": ".py",
   "mimetype": "text/x-python",
   "name": "python",
   "nbconvert_exporter": "python",
   "pygments_lexer": "ipython3",
   "version": "3.12.4"
  }
 },
 "nbformat": 4,
 "nbformat_minor": 5
}
