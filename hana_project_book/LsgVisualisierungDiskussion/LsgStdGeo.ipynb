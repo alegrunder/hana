{
 "cells": [
  {
   "cell_type": "markdown",
   "id": "f9729c85-7379-484c-829f-09a1a8098581",
   "metadata": {},
   "source": [
    "# Lösung des Problems für Standard-Geometrie\n",
    "## Includes"
   ]
  },
  {
   "cell_type": "code",
   "execution_count": 1,
   "id": "11d58a99-5191-4025-bcc8-e256403a00d5",
   "metadata": {},
   "outputs": [],
   "source": [
    "import sys, os\n",
    "# Add the ImportExport directory to sys.path\n",
    "import_export_dir = os.path.join(os.path.join(os.getcwd(), '..'), 'ImportExport')\n",
    "if import_export_dir not in sys.path:\n",
    "    sys.path.append(import_export_dir)\n",
    "from global_parameters import *\n",
    "from EddyCurrentProblem import *\n",
    "from ngsolve import *\n",
    "from ngsolve.webgui import Draw\n",
    "from netgen.csg import *\n",
    "from netgen.geom2d import SplineGeometry\n",
    "import numpy as np"
   ]
  },
  {
   "cell_type": "markdown",
   "id": "6b0d58f6-ab10-4304-ba35-b1297e238cd4",
   "metadata": {},
   "source": [
    "## Importieren des Meshs und der Stromdichte"
   ]
  },
  {
   "cell_type": "code",
   "execution_count": 2,
   "id": "950b8716-f988-4b9a-baf3-d55b293d12ce",
   "metadata": {},
   "outputs": [],
   "source": [
    "mesh = Mesh(\"../ImportExport/myStdMesh.vol\")  # Load mesh\n",
    "Vstore = L2(mesh, order=4)\n",
    "Jimp = GridFunction(Vstore)\n",
    "Jimp.Load(\"../ImportExport/JimpStdGeo.gf\")"
   ]
  },
  {
   "cell_type": "markdown",
   "id": "eac29ebf-18c2-4e49-ba8a-3615ccdaf970",
   "metadata": {},
   "source": [
    "## Lösung des Wirbelstromproblems"
   ]
  },
  {
   "cell_type": "code",
   "execution_count": 3,
   "id": "22f4b82a-6d38-4dbc-9ab9-e0c9811ad5f7",
   "metadata": {},
   "outputs": [
    {
     "name": "stdout",
     "output_type": "stream",
     "text": [
      "Assembling BilinearForm 'a'...\n",
      "Assembling LinearForm 'f'...\n",
      "Solving system for A_phi...\n",
      "System solved.\n",
      "Drawing |A_phi| (Magnitude of A_phi)...\n"
     ]
    },
    {
     "data": {
      "application/vnd.jupyter.widget-view+json": {
       "model_id": "e7d3c22ec6e5476199bd5dedc6c6e270",
       "version_major": 2,
       "version_minor": 0
      },
      "text/plain": [
       "WebGuiWidget(layout=Layout(height='50vh', width='100%'), value={'gui_settings': {}, 'ngsolve_version': '6.2.24…"
      ]
     },
     "metadata": {},
     "output_type": "display_data"
    }
   ],
   "source": [
    "# Create an instance of the problem\n",
    "ecp = EddyCurrentProblem(mesh, Jimp, omega, sigma, nu)\n",
    "\n",
    "# Solve the problem\n",
    "gfu = ecp.solve()\n",
    "\n",
    "# Draw the solution\n",
    "if gfu:\n",
    "    ecp.draw_solution()"
   ]
  },
  {
   "cell_type": "markdown",
   "id": "358e6a27-39e1-41ec-928f-55e5edb2b4f0",
   "metadata": {},
   "source": [
    "## Berechnung und Visualisierung B-Feld\n",
    "Aus dem Vektorpotential $A_\\phi$ können nun mit den Gleichungen {eq}`eq:Brotsym` die Komponenten des B-Feldes berechnet werden."
   ]
  },
  {
   "cell_type": "code",
   "execution_count": 4,
   "id": "5ca17c8e-69b9-4d86-929e-9425dffc8525",
   "metadata": {},
   "outputs": [
    {
     "name": "stdout",
     "output_type": "stream",
     "text": [
      "Calculating B-field components...\n",
      "B-field components calculated.\n",
      "Drawing B_z (complex)...\n"
     ]
    },
    {
     "data": {
      "application/vnd.jupyter.widget-view+json": {
       "model_id": "1a970c65d7204e378d3e3b4d1f12f342",
       "version_major": 2,
       "version_minor": 0
      },
      "text/plain": [
       "WebGuiWidget(layout=Layout(height='50vh', width='100%'), value={'gui_settings': {'Complex': {'phase': 0.0, 'sp…"
      ]
     },
     "metadata": {},
     "output_type": "display_data"
    },
    {
     "name": "stdout",
     "output_type": "stream",
     "text": [
      "Drawing B_r (complex)...\n"
     ]
    },
    {
     "data": {
      "application/vnd.jupyter.widget-view+json": {
       "model_id": "0007f8d82f444598939dbd595d57ae21",
       "version_major": 2,
       "version_minor": 0
      },
      "text/plain": [
       "WebGuiWidget(layout=Layout(height='50vh', width='100%'), value={'gui_settings': {'Complex': {'phase': 0.0, 'sp…"
      ]
     },
     "metadata": {},
     "output_type": "display_data"
    },
    {
     "name": "stdout",
     "output_type": "stream",
     "text": [
      "Drawing |B| (Magnitude of B-field)...\n"
     ]
    },
    {
     "data": {
      "application/vnd.jupyter.widget-view+json": {
       "model_id": "2b45439866f7407bb0cd77c62b1300d0",
       "version_major": 2,
       "version_minor": 0
      },
      "text/plain": [
       "WebGuiWidget(layout=Layout(height='50vh', width='100%'), value={'gui_settings': {}, 'ngsolve_version': '6.2.24…"
      ]
     },
     "metadata": {},
     "output_type": "display_data"
    }
   ],
   "source": [
    "ecp.calculate_b_field()\n",
    "ecp.draw_b_field_components()"
   ]
  },
  {
   "cell_type": "code",
   "execution_count": 5,
   "id": "7bd86c7a-169f-4a5d-bb76-9809de076e65",
   "metadata": {},
   "outputs": [
    {
     "name": "stdout",
     "output_type": "stream",
     "text": [
      "Drawing B-vector field (real part) at t = 0 ms ...\n"
     ]
    },
    {
     "data": {
      "application/vnd.jupyter.widget-view+json": {
       "model_id": "109b874a45f74240950fdf7f1b6e6630",
       "version_major": 2,
       "version_minor": 0
      },
      "text/plain": [
       "WebGuiWidget(layout=Layout(height='50vh', width='100%'), value={'gui_settings': {}, 'ngsolve_version': '6.2.24…"
      ]
     },
     "metadata": {},
     "output_type": "display_data"
    },
    {
     "name": "stdout",
     "output_type": "stream",
     "text": [
      "Drawing B-vector field (real part) at t = 10.0 ms ...\n"
     ]
    },
    {
     "data": {
      "application/vnd.jupyter.widget-view+json": {
       "model_id": "9eea6e3d52274feaad2017cd8b555a23",
       "version_major": 2,
       "version_minor": 0
      },
      "text/plain": [
       "WebGuiWidget(layout=Layout(height='50vh', width='100%'), value={'gui_settings': {}, 'ngsolve_version': '6.2.24…"
      ]
     },
     "metadata": {},
     "output_type": "display_data"
    }
   ],
   "source": [
    "ecp.draw_b_vector_field(time_val=0)\n",
    "ecp.draw_b_vector_field(time_val=10e-3)"
   ]
  },
  {
   "cell_type": "code",
   "execution_count": 6,
   "id": "c87e9c2b-65f5-4d98-9179-8272dcb41501",
   "metadata": {},
   "outputs": [],
   "source": [
    "#ecp.showAnimation(store_ani=True)"
   ]
  },
  {
   "cell_type": "markdown",
   "id": "05b5074f-e2aa-46ed-8aa9-4edfd43c3c61",
   "metadata": {},
   "source": [
    "![GIF animation of B-field](../ImportExport/animation.gif)"
   ]
  }
 ],
 "metadata": {
  "kernelspec": {
   "display_name": "Python 3 (ipykernel)",
   "language": "python",
   "name": "python3"
  },
  "language_info": {
   "codemirror_mode": {
    "name": "ipython",
    "version": 3
   },
   "file_extension": ".py",
   "mimetype": "text/x-python",
   "name": "python",
   "nbconvert_exporter": "python",
   "pygments_lexer": "ipython3",
   "version": "3.12.4"
  }
 },
 "nbformat": 4,
 "nbformat_minor": 5
}
