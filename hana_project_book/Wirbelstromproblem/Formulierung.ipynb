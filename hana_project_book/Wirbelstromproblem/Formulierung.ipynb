{
 "cells": [
  {
   "cell_type": "markdown",
   "id": "70b615a4-51f1-40c4-bf70-ceaa7c84cf0a",
   "metadata": {},
   "source": [
    "# Formulierung Wirbelstromproblem"
   ]
  },
  {
   "cell_type": "markdown",
   "id": "84edfb7e-fb63-463b-9b38-39cb574e6026",
   "metadata": {},
   "source": [
    "*Mehr Grundlagen ergänzen, auf Randbedingungen eingehen*\n"
   ]
  },
  {
   "cell_type": "markdown",
   "id": "8c62c9fb-f79b-460a-8c58-22a4c59445fe",
   "metadata": {},
   "source": [
    "Die Differentialgleichung lautet:\n",
    "\n",
    "$$\n",
    "\\sigma j \\omega A_\\phi - \\left( \\frac{\\partial}{\\partial r} \\left( \\frac{\\mu^{-1}}{r} \\frac{\\partial (r A_\\phi)}{\\partial r} \\right) + \\frac{\\partial}{\\partial z} \\left( \\mu^{-1} \\frac{\\partial A_\\phi}{\\partial z} \\right) \\right) = j_\\phi\n",
    "$$\n",
    "\n",
    "Die schwache Formulierung ergibt sich, indem man beide Seiten mit einer Testfunktion  $v \\in H^1$ (komplexwertiger FE-Raum) multipliziert und über das Gebiet  $\\Omega$ integriert:\n",
    "\n",
    "$$\n",
    "\\int_\\Omega \\left( \\sigma j \\omega A_\\phi v - \\frac{\\partial}{\\partial r} \\left( \\frac{\\mu^{-1}}{r} \\frac{\\partial (r A_\\phi)}{\\partial r} \\right) v - \\frac{\\partial}{\\partial z} \\left( \\mu^{-1} \\frac{\\partial A_\\phi}{\\partial z} \\right) v \\right) \\, d\\Omega = \\int_\\Omega j_\\phi v \\, d\\Omega\n",
    "$$\n",
    "\n",
    "Das Teilintegral mit zwei Ableitungen nach $r$ lässt sich u.A. durch partielle Integration vereinfachen.\n",
    "\n",
    "$$ \\frac{\\partial (r A_\\phi)}{\\partial r}=A_\\phi + r \\frac{\\partial (A_\\phi)}{\\partial r} \\quad (Produktregel)$$\n",
    "\n",
    "$$\n",
    "\\int_\\Omega - \\frac{\\partial}{\\partial r} \\left( \\frac{\\mu^{-1}}{r} \\frac{\\partial (r A_\\phi)}{\\partial r} \\right) v \\, d\\Omega = \\underbrace{ \\left[ - \\frac{\\mu^{-1}}{r} \\frac{\\partial (r A_\\phi)}{\\partial r} v \\right]_{\\partial\\Omega}}_{=0} +\n",
    "\\int_\\Omega \\frac{\\mu^{-1}}{r} \\frac{\\partial (r A_\\phi)}{\\partial r} \\frac{\\partial v}{\\partial r} \\, d\\Omega =  \\int_\\Omega \\mu^{-1} \\left( \\frac{A_\\phi}{r} +  \\frac{\\partial A_\\phi}{\\partial r} \\right)  \\frac{\\partial v}{\\partial r} \\, d\\Omega \n",
    "$$\n",
    "\n",
    "Die partielle Integration wird auch aufs Teilintegral mit zwei Ableitungen nach $z$ angewendet.\n",
    "\n",
    "$$\n",
    "\\int_\\Omega - \\frac{\\partial}{\\partial z} \\left( \\mu^{-1} \\frac{\\partial A_\\phi}{\\partial z} \\right) v \\, d\\Omega = \\underbrace{ \\left[ - \\mu^{-1} \\frac{\\partial A_\\phi}{\\partial z} v \\right]_{\\partial\\Omega}}_{=0} +\n",
    "\\int_\\Omega \\mu^{-1} \\frac{\\partial A_\\phi}{\\partial z} \\frac{\\partial v}{\\partial z} \\, d\\Omega\n",
    "$$\n",
    "\n",
    "Die schwache Formulierung der Differentialgleichung lautet:\n",
    "\n",
    "> $$ \\underbrace{ \\int_\\Omega \\sigma j \\omega A_\\phi v  + \\mu^{-1} \\left( \\frac{A_\\phi}{r} +  \\frac{\\partial A_\\phi}{\\partial r} \\right)  \\frac{\\partial v}{\\partial r} + \\mu^{-1} \\frac{\\partial A_\\phi}{\\partial z} \\frac{\\partial v}{\\partial z} \\, d\\Omega }_{\\text{Bilinearform } a(A_\\phi, v)} = \\underbrace{ \\int_\\Omega j_\\phi v \\, d\\Omega }_{\\text{Linearfrom }  f(v)}, \\quad \\forall v \\in H^1$$\n",
    "\n",
    "wobei die Bilinearform  $a(A_\\phi, v)$  durch die folgenden Terme definiert ist:\n",
    "\n",
    "$$\n",
    "a(A_\\phi, v) = \\int_\\Omega \\sigma j \\omega A_\\phi v \\, d\\Omega + \\int_\\Omega \\mu^{-1} \\left( \\frac{A_\\phi}{r} +  \\frac{\\partial A_\\phi}{\\partial r} \\right)  \\frac{\\partial v}{\\partial r} \\, d\\Omega  + \\int_\\Omega \\mu^{-1} \\frac{\\partial A_\\phi}{\\partial z} \\frac{\\partial v}{\\partial z} \\, d\\Omega\n",
    "$$"
   ]
  }
 ],
 "metadata": {
  "kernelspec": {
   "display_name": "Python 3 (ipykernel)",
   "language": "python",
   "name": "python3"
  },
  "language_info": {
   "codemirror_mode": {
    "name": "ipython",
    "version": 3
   },
   "file_extension": ".py",
   "mimetype": "text/x-python",
   "name": "python",
   "nbconvert_exporter": "python",
   "pygments_lexer": "ipython3",
   "version": "3.12.4"
  }
 },
 "nbformat": 4,
 "nbformat_minor": 5
}
