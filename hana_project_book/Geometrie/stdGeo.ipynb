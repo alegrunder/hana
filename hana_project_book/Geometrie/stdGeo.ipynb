{
 "cells": [
  {
   "cell_type": "markdown",
   "id": "f9729c85-7379-484c-829f-09a1a8098581",
   "metadata": {},
   "source": [
    "# Standard-Geometrie"
   ]
  },
  {
   "cell_type": "code",
   "execution_count": null,
   "id": "11d58a99-5191-4025-bcc8-e256403a00d5",
   "metadata": {},
   "outputs": [],
   "source": [
    "\n"
   ]
  },
  {
   "cell_type": "code",
   "execution_count": null,
   "id": "fc803226-32b4-43fe-8a63-027777e1f430",
   "metadata": {},
   "outputs": [],
   "source": []
  }
 ],
 "metadata": {
  "kernelspec": {
   "display_name": "Python 3 (ipykernel)",
   "language": "python",
   "name": "python3"
  },
  "language_info": {
   "codemirror_mode": {
    "name": "ipython",
    "version": 3
   },
   "file_extension": ".py",
   "mimetype": "text/x-python",
   "name": "python",
   "nbconvert_exporter": "python",
   "pygments_lexer": "ipython3",
   "version": "3.12.4"
  }
 },
 "nbformat": 4,
 "nbformat_minor": 5
}
