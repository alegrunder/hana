{
 "cells": [
  {
   "cell_type": "markdown",
   "id": "f9729c85-7379-484c-829f-09a1a8098581",
   "metadata": {},
   "source": [
    "# Geometrie mit Topf\n",
    "Hier wird eine Geometrie mit mehreren Windungen und Topf generiert.\n",
    "Der untere Rand ist die Rotationsachse.\n",
    "\n",
    "## Includes"
   ]
  },
  {
   "cell_type": "code",
   "execution_count": 1,
   "id": "11d58a99-5191-4025-bcc8-e256403a00d5",
   "metadata": {},
   "outputs": [],
   "source": [
    "import sys, os\n",
    "# Add the ImportExport directory to sys.path\n",
    "import_export_dir = os.path.join(os.path.join(os.getcwd(), '..'), 'ImportExport')\n",
    "if import_export_dir not in sys.path:\n",
    "    sys.path.append(import_export_dir)\n",
    "from global_parameters import *\n",
    "from ngsolve import *\n",
    "from ngsolve.webgui import Draw\n",
    "from netgen.csg import *\n",
    "from netgen.geom2d import SplineGeometry\n",
    "import numpy as np"
   ]
  },
  {
   "cell_type": "markdown",
   "id": "387b065a-04f0-410c-8d6b-49c1d6d35f09",
   "metadata": {},
   "source": [
    "## Definition Masse und Parameter\n",
    "Wir setzen $r = 0.001\\,\\text{m}$ und $i_c = 10\\,\\text{A}$."
   ]
  },
  {
   "cell_type": "code",
   "execution_count": 2,
   "id": "cdb507ec-564d-4575-b603-99c3daf6ad28",
   "metadata": {},
   "outputs": [],
   "source": [
    "ic = 10                 # Strom in den Windungen (A)\n",
    "\n",
    "# Mesh Generation\n",
    "l_air = 0.1         # Grosse der dargestellten Luft um denn Versuchsaufbau\n",
    "r_wire = 0.001      # Drahtdurchmesser in Metern\n",
    "nx_wire = 10        # Anzahl Kabel in X-Richtung\n",
    "ny_wire = 3         # Anzahl Kabel in Y-Richtung\n",
    "dxdy_wire = 0.5*r_wire\n",
    "\n",
    "rA_core = 0.01      # Core Höhe\n",
    "rI_core = 0.008\n",
    "l_core = 0.08       # Core Länge\n",
    "epsZero = 1e-8\n",
    "\n",
    "pot_offset_x = -0.03\n",
    "pot_offset_y = 0\n",
    "\n",
    "pot_width = 0.04\n",
    "pot_height = 0.04\n",
    "pot_wall = 0.002\n",
    "pot_hole = 0.0001\n",
    "pot_nx_wire = 1        # Anzahl Kabel in X-Richtung\n",
    "pot_ny_wire = 15         # Anzahl Kabel in Y-Richtung\n",
    "pot_coil_x = 0.0125        #position coil\n",
    "pot_coil_y = 0.003        #position coil\n",
    "pot_waterlevel = 90         # in prozent\n",
    "waterlevel = pot_height-(pot_height-pot_wall) * (pot_waterlevel/100)\n",
    "\n",
    "\n",
    "points = [  (0+pot_offset_x,               pot_width+pot_offset_y), \n",
    "            (0+pot_offset_x,               pot_width- pot_wall+pot_offset_y),\n",
    "            (pot_height-pot_wall+pot_offset_x,  pot_width- pot_wall+pot_offset_y),\n",
    "            (pot_height- pot_wall+pot_offset_x, pot_hole+pot_offset_y),\n",
    "            (pot_height+pot_offset_x,           pot_hole+pot_offset_y),\n",
    "            (pot_height+pot_offset_x,           pot_width+pot_offset_y) ]\n"
   ]
  },
  {
   "cell_type": "markdown",
   "id": "6b0d58f6-ab10-4304-ba35-b1297e238cd4",
   "metadata": {},
   "source": [
    "## Generieren des Meshs"
   ]
  },
  {
   "cell_type": "code",
   "execution_count": 3,
   "id": "88e46a2d-03e9-4594-8861-f5bb6f6f20a7",
   "metadata": {},
   "outputs": [],
   "source": [
    "geo = SplineGeometry()\n",
    "geo.AddRectangle(p1=(-l_air/2,epsZero),\n",
    "                p2=(l_air/2,l_air/2),\n",
    "                bcs=[\"rotsym\",\"outer\",\"outer\",\"outer\"],\n",
    "                leftdomain=1,\n",
    "                rightdomain=0)\n",
    "\n",
    "pts = []\n",
    "for i in range(pot_nx_wire):\n",
    "    for j in range(pot_ny_wire):\n",
    "        pts.append([\n",
    "            i*(2*r_wire+dxdy_wire)+pot_coil_x, \n",
    "            dxdy_wire+r_wire+j*(2*r_wire+dxdy_wire) + pot_coil_y\n",
    "        ])\n",
    "        geo.AddCircle(\n",
    "            c=(i*(2*r_wire+dxdy_wire)+pot_coil_x, \n",
    "            dxdy_wire+r_wire+j*(2*r_wire+dxdy_wire)+ pot_coil_y),\n",
    "            r=r_wire, bc=\"inner\",\n",
    "            leftdomain=2,\n",
    "            rightdomain=1)\n",
    "pts = np.array(pts)\n",
    "\n",
    "geo.AddRectangle(p1=(pot_height-pot_wall+pot_offset_x-0.00001,  pot_width- pot_wall+pot_offset_y-0.00001),\n",
    "                p2=(waterlevel+pot_offset_x,pot_hole+pot_offset_y),\n",
    "                bc=\"inner\",\n",
    "                leftdomain=4,\n",
    "                rightdomain=1)\n",
    "\n",
    "\n",
    "\n",
    "pnums = []\n",
    "for p in points:\n",
    "        pnums.append(geo.AppendPoint(*p))\n",
    "    \n",
    "for i in range(len(pnums)):\n",
    "    geo.Append([\"line\", pnums[i], pnums[(i+1)%len(pnums)]], leftdomain=3, rightdomain=1, bc=\"inner\")\n",
    "\n",
    "\n",
    "geo.SetMaterial (1, \"air\")\n",
    "geo.SetMaterial (2, \"copper\")\n",
    "geo.SetMaterial (3, \"core\")\n",
    "geo.SetMaterial (4, \"water\")\n",
    "geo.SetDomainMaxH(3,(rA_core-rI_core)/2)\n",
    "\n",
    "mesh = Mesh(geo.GenerateMesh(maxh=0.0025))\n",
    "#print(mesh.GetBoundaries())"
   ]
  },
  {
   "cell_type": "markdown",
   "id": "06ac1829-0c80-45c1-9f2e-b8cd35a1b277",
   "metadata": {},
   "source": [
    "## Darstellung Mesh mit Materialien\n",
    "```{table} Topf-Geometrie Materialien\n",
    ":name: topfMeshMaterials\n",
    "| Material                             | Farbe             |\n",
    "|------------------------------|-------------|\n",
    "| Luft              | blau |\n",
    "| Kupfer | türkis |\n",
    "| Topf | gelb |\n",
    "| Wasser | rot |\n",
    "```"
   ]
  },
  {
   "cell_type": "code",
   "execution_count": 4,
   "id": "16afd307-73db-452f-82eb-a5bb80565572",
   "metadata": {},
   "outputs": [
    {
     "name": "stdout",
     "output_type": "stream",
     "text": [
      "('air', 'copper', 'core', 'water')\n"
     ]
    },
    {
     "data": {
      "application/vnd.jupyter.widget-view+json": {
       "model_id": "bb2b6c2d6a694f8a802972a122a50aba",
       "version_major": 2,
       "version_minor": 0
      },
      "text/plain": [
       "WebGuiWidget(layout=Layout(height='500px', width='100%'), value={'gui_settings': {}, 'ngsolve_version': '6.2.2…"
      ]
     },
     "metadata": {},
     "output_type": "display_data"
    },
    {
     "data": {
      "text/plain": [
       "BaseWebGuiScene"
      ]
     },
     "execution_count": 4,
     "metadata": {},
     "output_type": "execute_result"
    }
   ],
   "source": [
    "# Visualisierung\n",
    "mat_mapping = {name: i+1 for i, name in enumerate(mesh.GetMaterials())}\n",
    "print(mesh.GetMaterials())\n",
    "cf = mesh.MaterialCF(mat_mapping)\n",
    "Draw(cf, mesh, \"material_colors\")"
   ]
  },
  {
   "cell_type": "markdown",
   "id": "03134d91-50bd-4177-9d26-f13ba10e2d65",
   "metadata": {},
   "source": [
    "## Stromdichte speichern\n",
    "Die Stromdichte wird gemäss Gleichung {eq}`eq:Jrotsym` berechnet und gespeichert. "
   ]
  },
  {
   "cell_type": "code",
   "execution_count": 5,
   "id": "f84b01de-a5c0-4650-b6d8-781b29b99b0b",
   "metadata": {},
   "outputs": [],
   "source": [
    "Jimp = CoefficientFunction([0,ic/(r_wire**2*pi),0])\n",
    "Vstore = L2(mesh, order=4)\n",
    "gf = GridFunction(Vstore)\n",
    "gf.Set(Jimp)\n",
    "#Draw(gf, mesh)\n",
    "# Now save as above\n",
    "gf.Save(\"../ImportExport/JimpTopfGeo.gf\")"
   ]
  },
  {
   "cell_type": "markdown",
   "id": "766f09e0-7c0f-42d0-9d3e-baf9c538a720",
   "metadata": {},
   "source": [
    "## Mesh speichern"
   ]
  },
  {
   "cell_type": "code",
   "execution_count": 6,
   "id": "38239788-a970-40f4-afff-7b056e6e5835",
   "metadata": {},
   "outputs": [],
   "source": [
    "mesh.ngmesh.Save(\"../ImportExport/myTopfMesh.vol\")"
   ]
  }
 ],
 "metadata": {
  "kernelspec": {
   "display_name": "venv",
   "language": "python",
   "name": "python3"
  },
  "language_info": {
   "codemirror_mode": {
    "name": "ipython",
    "version": 3
   },
   "file_extension": ".py",
   "mimetype": "text/x-python",
   "name": "python",
   "nbconvert_exporter": "python",
   "pygments_lexer": "ipython3",
   "version": "3.12.2"
  }
 },
 "nbformat": 4,
 "nbformat_minor": 5
}
